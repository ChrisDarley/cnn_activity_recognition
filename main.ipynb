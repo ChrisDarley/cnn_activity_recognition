{
 "cells": [
  {
   "cell_type": "code",
   "execution_count": null,
   "id": "a9c36ed4",
   "metadata": {},
   "outputs": [],
   "source": [
    "import torch\n",
    "from torch import nn\n",
    "from torch.utils.data import DataLoader\n",
    "from torchvision import datasets\n",
    "from torch import from_numpy\n",
    "from network import NeuralNetwork\n",
    "from preprocessor import create_dataset\n",
    "import numpy as np\n",
    "import torch.utils.data as data"
   ]
  },
  {
   "cell_type": "code",
   "execution_count": null,
   "id": "9d5a9867",
   "metadata": {},
   "outputs": [],
   "source": [
    "model = NeuralNetwork().double()\n",
    "device = torch.device(\"cpu\")"
   ]
  },
  {
   "cell_type": "code",
   "execution_count": null,
   "id": "3a15d286",
   "metadata": {},
   "outputs": [],
   "source": [
    "transform = None\n",
    "target_transform = None"
   ]
  },
  {
   "cell_type": "code",
   "execution_count": null,
   "id": "7c1de73f",
   "metadata": {},
   "outputs": [],
   "source": [
    "train_set = create_dataset(train=True)\n",
    "test_set = create_dataset(train=False)\n",
    "batch_size = 64"
   ]
  },
  {
   "cell_type": "code",
   "execution_count": null,
   "id": "6730c72a",
   "metadata": {},
   "outputs": [],
   "source": [
    "train_set_size = int(len(train_set) *0.8)\n",
    "valid_set_size = len(train_set) - train_set_size\n",
    "train_set, valid_set = data.random_split(\n",
    "    train_set, [train_set_size, valid_set_size])\n"
   ]
  },
  {
   "cell_type": "code",
   "execution_count": null,
   "id": "56243ae1",
   "metadata": {},
   "outputs": [],
   "source": [
    "train_dataloader = DataLoader(\n",
    "    train_set, batch_size=batch_size, drop_last=True)\n",
    "valid_dataloader = DataLoader(\n",
    "    valid_set, batch_size=batch_size, drop_last=True)\n",
    "test_dataloader = DataLoader(\n",
    "    test_set, batch_size=batch_size, drop_last=True)"
   ]
  },
  {
   "cell_type": "code",
   "execution_count": null,
   "id": "3bb46776",
   "metadata": {},
   "outputs": [],
   "source": [
    "def train_loop(dataloader, model, loss_fn, optimizer):\n",
    "    size = len(dataloader.dataset)\n",
    "    model.train()\n",
    "    for batch, (X, y) in enumerate(dataloader):\n",
    "        X, y = X.to(device), y.to(device)\n",
    "        \n",
    "        #computing prediction error\n",
    "        pred = model(X)\n",
    "        loss = loss_fn(pred, y)\n",
    "        \n",
    "        #backprop\n",
    "        optimizer.zero_grad()\n",
    "        loss.backward()\n",
    "        optimizer.step()\n",
    "        \n",
    "        if batch % 25 == 0:\n",
    "            loss, current = loss.item(), batch * len(X)\n",
    "            print(f\"loss: {loss:>7f} [{current:>5d}/{size:>5d}]\")\n",
    "            \n",
    "            \n",
    "def valid_loop(dataloader, model, loss_fn):\n",
    "    size = len(dataloader.dataset)\n",
    "    num_batches = len(dataloader)\n",
    "    valid_loss, correct = 0, 0\n",
    "    \n",
    "\n",
    "    with torch.no_grad():\n",
    "        for X, y in dataloader:\n",
    "            pred = model(X)\n",
    "            valid_loss += loss_fn(pred, y).item()\n",
    "            correct += (pred.argmax(1) == y).type(torch.float).sum().item()\n",
    "\n",
    "    valid_loss /= num_batches\n",
    "    correct /= size\n",
    "    accuracy = 100*correct\n",
    "    global best_valid_accuracy\n",
    "#     global best_valid_loss\n",
    "    global counter\n",
    "#     if loss<best_valid_loss:\n",
    "    if accuracy>best_valid_accuracy:\n",
    "        counter = 0\n",
    "#         best_valid_loss = valid_loss\n",
    "        best_valid_accuracy = accuracy\n",
    "        torch.save(model.state_dict(), 'best-model-parameters.pt')\n",
    "    else:\n",
    "        counter+=1\n",
    "    print(f\"Validation Error: \\n Accuracy: {(accuracy):>0.1f}%, Avg loss: \\\n",
    "    {valid_loss:>8f}\")\n",
    "    print(f\"Best validation accuracy: {(best_valid_accuracy):>0.1f}% \\n\")"
   ]
  },
  {
   "cell_type": "code",
   "execution_count": null,
   "id": "6ebf72be",
   "metadata": {},
   "outputs": [],
   "source": [
    "def test_loop(dataloader, model, loss_fn):\n",
    "    size = len(dataloader.dataset)\n",
    "    num_batches = len(dataloader)\n",
    "    test_loss, correct = 0, 0\n",
    "    \n",
    "    with torch.no_grad():\n",
    "        for X, y in dataloader:\n",
    "            pred = model(X)\n",
    "            test_loss += loss_fn(pred, y).item()\n",
    "            correct += (pred.argmax(1) == y).type(torch.float).sum().item()\n",
    "            \n",
    "    test_loss /= num_batches\n",
    "    correct /= size\n",
    "    accuracy = 100*correct\n",
    "    print(f\"Test Error: \\n Accuracy: {(accuracy):>0.1f}%, Avg loss: \\\n",
    "    {test_loss:>8f}\")"
   ]
  },
  {
   "cell_type": "code",
   "execution_count": null,
   "id": "fa5b4dc8",
   "metadata": {
    "scrolled": true
   },
   "outputs": [],
   "source": [
    "loss_fn = nn.CrossEntropyLoss()\n",
    "learning_rate = 0.01\n",
    "optimizer = torch.optim.SGD(model.parameters(), lr=learning_rate)\n",
    "best_valid_accuracy = 0.00\n",
    "# best_valid_loss = 10\n",
    "counter = 0\n",
    "\n",
    "\n",
    "epochs = 1000\n",
    "for t in range(epochs):\n",
    "    print(f\"Epoch {t+1}\\n-------------------------------\")\n",
    "    train_loop(train_dataloader, model, loss_fn, optimizer)\n",
    "    valid_loop(valid_dataloader, model, loss_fn)\n",
    "    if counter == 150:\n",
    "        break\n",
    "print(\"Done!\")"
   ]
  },
  {
   "cell_type": "code",
   "execution_count": null,
   "id": "283b82e5",
   "metadata": {},
   "outputs": [],
   "source": [
    "# Running the trained model on the test data with weights of model which\n",
    "# achieved best validation accuracy.\n",
    "model = NeuralNetwork().double()\n",
    "model.load_state_dict(torch.load('best-model-parameters.pt', map_location='cpu'))\n",
    "test_loop(test_dataloader, model, loss_fn)"
   ]
  },
  {
   "cell_type": "code",
   "execution_count": null,
   "id": "d547aec3",
   "metadata": {},
   "outputs": [],
   "source": [
    "# Goals to add to this project:\n",
    "# 1) add label support to dataloaders for confusion matrix purposes\n",
    "# 2) visualize training on tensorboard\n",
    "# 3) consider using stratified train test split to split all three sets for\n",
    "#    possible improved results (use n_splits=1)\n",
    "#    I should at least use this split for the train data to split into train\n",
    "#    and val.  I might want to keep the same test set.\n",
    "# 4) Normalize the incoming data through a transform\n",
    "# 5) Clean up the pipeline so that all transforms happen through the transform method"
   ]
  }
 ],
 "metadata": {
  "interpreter": {
   "hash": "de1e6a948b4348d146ddbcff43ac2648bd9df75c34c05d87d0f8f2ea0312e4f6"
  },
  "kernelspec": {
   "display_name": "Python 3 (ipykernel)",
   "language": "python",
   "name": "python3"
  },
  "language_info": {
   "codemirror_mode": {
    "name": "ipython",
    "version": 3
   },
   "file_extension": ".py",
   "mimetype": "text/x-python",
   "name": "python",
   "nbconvert_exporter": "python",
   "pygments_lexer": "ipython3",
   "version": "3.9.12"
  }
 },
 "nbformat": 4,
 "nbformat_minor": 5
}
